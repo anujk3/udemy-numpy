{
 "cells": [
  {
   "cell_type": "markdown",
   "metadata": {},
   "source": [
    "## Gaussian PDF and CDF"
   ]
  },
  {
   "cell_type": "code",
   "execution_count": 1,
   "metadata": {},
   "outputs": [
    {
     "name": "stderr",
     "output_type": "stream",
     "text": [
      "/opt/conda/lib/python3.6/importlib/_bootstrap.py:219: RuntimeWarning: numpy.dtype size changed, may indicate binary incompatibility. Expected 96, got 88\n",
      "  return f(*args, **kwds)\n"
     ]
    }
   ],
   "source": [
    "from scipy.stats import norm"
   ]
  },
  {
   "cell_type": "code",
   "execution_count": 2,
   "metadata": {},
   "outputs": [
    {
     "data": {
      "text/plain": [
       "0.3989422804014327"
      ]
     },
     "execution_count": 2,
     "metadata": {},
     "output_type": "execute_result"
    }
   ],
   "source": [
    "norm.pdf(0) # pdf value is value on the curve"
   ]
  },
  {
   "cell_type": "code",
   "execution_count": 3,
   "metadata": {},
   "outputs": [
    {
     "data": {
      "text/plain": [
       "0.035206532676429952"
      ]
     },
     "execution_count": 3,
     "metadata": {},
     "output_type": "execute_result"
    }
   ],
   "source": [
    "norm.pdf(0, loc=5, scale=10)"
   ]
  },
  {
   "cell_type": "code",
   "execution_count": 4,
   "metadata": {},
   "outputs": [],
   "source": [
    "import numpy as np"
   ]
  },
  {
   "cell_type": "code",
   "execution_count": 5,
   "metadata": {},
   "outputs": [],
   "source": [
    "r = np.random.randn(10)"
   ]
  },
  {
   "cell_type": "code",
   "execution_count": 6,
   "metadata": {},
   "outputs": [
    {
     "data": {
      "text/plain": [
       "array([ 0.39867667,  0.30658105,  0.39847573,  0.08438209,  0.0737153 ,\n",
       "        0.38048013,  0.31463504,  0.34524956,  0.09353802,  0.10620386])"
      ]
     },
     "execution_count": 6,
     "metadata": {},
     "output_type": "execute_result"
    }
   ],
   "source": [
    "norm.pdf(r)"
   ]
  },
  {
   "cell_type": "markdown",
   "metadata": {},
   "source": [
    "#### Log PDF : Always more convenient"
   ]
  },
  {
   "cell_type": "code",
   "execution_count": 7,
   "metadata": {},
   "outputs": [
    {
     "data": {
      "text/plain": [
       "array([-0.91960454, -1.18227311, -0.92010869, -2.47240006, -2.60754494,\n",
       "       -0.96632133, -1.15634191, -1.06348777, -2.36938734, -2.24239479])"
      ]
     },
     "execution_count": 7,
     "metadata": {},
     "output_type": "execute_result"
    }
   ],
   "source": [
    "norm.logpdf(r)"
   ]
  },
  {
   "cell_type": "code",
   "execution_count": 9,
   "metadata": {},
   "outputs": [
    {
     "data": {
      "text/plain": [
       "array([ 0.51455692,  0.2340053 ,  0.480708  ,  0.96101994,  0.96694812,\n",
       "        0.62089804,  0.75460795,  0.70460058,  0.04426512,  0.94812439])"
      ]
     },
     "execution_count": 9,
     "metadata": {},
     "output_type": "execute_result"
    }
   ],
   "source": [
    "norm.cdf(r)"
   ]
  },
  {
   "cell_type": "code",
   "execution_count": 10,
   "metadata": {},
   "outputs": [
    {
     "data": {
      "text/plain": [
       "array([-0.6644491 , -1.45241153, -0.73249527, -0.03976012, -0.03361043,\n",
       "       -0.4765884 , -0.28155694, -0.35012418, -3.11755825, -0.05326958])"
      ]
     },
     "execution_count": 10,
     "metadata": {},
     "output_type": "execute_result"
    }
   ],
   "source": [
    "norm.logcdf(r)"
   ]
  },
  {
   "cell_type": "code",
   "execution_count": 11,
   "metadata": {},
   "outputs": [
    {
     "data": {
      "text/plain": [
       "-0.66444909814602204"
      ]
     },
     "execution_count": 11,
     "metadata": {},
     "output_type": "execute_result"
    }
   ],
   "source": [
    "np.log(0.51455692)"
   ]
  },
  {
   "cell_type": "markdown",
   "metadata": {},
   "source": [
    "## Sampling from Gaussian Distribution (1D)"
   ]
  },
  {
   "cell_type": "code",
   "execution_count": 12,
   "metadata": {},
   "outputs": [],
   "source": [
    "r = np.random.randn(10000)"
   ]
  },
  {
   "cell_type": "code",
   "execution_count": 13,
   "metadata": {},
   "outputs": [
    {
     "data": {
      "text/plain": [
       "array([-0.66119633,  0.20674517, -1.07254089, ...,  1.08254362,\n",
       "       -0.44312241,  0.08186139])"
      ]
     },
     "execution_count": 13,
     "metadata": {},
     "output_type": "execute_result"
    }
   ],
   "source": [
    "r"
   ]
  },
  {
   "cell_type": "code",
   "execution_count": 14,
   "metadata": {},
   "outputs": [],
   "source": [
    "import matplotlib.pyplot as plt\n",
    "%matplotlib inline"
   ]
  },
  {
   "cell_type": "code",
   "execution_count": 15,
   "metadata": {},
   "outputs": [
    {
     "data": {
      "text/plain": [
       "(array([   2.,    0.,    1.,    1.,    2.,    4.,    1.,    0.,    5.,\n",
       "           3.,    0.,    6.,    3.,    9.,   11.,    6.,   13.,    9.,\n",
       "          24.,   24.,   22.,   25.,   32.,   42.,   45.,   70.,   62.,\n",
       "          73.,   65.,   81.,   88.,   97.,  115.,  115.,  140.,  157.,\n",
       "         175.,  165.,  178.,  196.,  201.,  220.,  232.,  262.,  202.,\n",
       "         240.,  254.,  289.,  273.,  295.,  290.,  261.,  275.,  297.,\n",
       "         280.,  268.,  254.,  262.,  258.,  260.,  237.,  244.,  193.,\n",
       "         194.,  179.,  177.,  172.,  164.,  134.,  119.,  120.,  120.,\n",
       "          90.,   89.,   67.,   75.,   55.,   43.,   45.,   41.,   26.,\n",
       "          27.,   28.,   22.,   19.,   12.,   14.,   16.,    9.,    8.,\n",
       "           3.,    2.,    1.,    2.,    5.,    1.,    1.,    3.,    1.,    2.]),\n",
       " array([-3.6473632 , -3.57664879, -3.50593438, -3.43521996, -3.36450555,\n",
       "        -3.29379113, -3.22307672, -3.15236231, -3.08164789, -3.01093348,\n",
       "        -2.94021906, -2.86950465, -2.79879024, -2.72807582, -2.65736141,\n",
       "        -2.58664699, -2.51593258, -2.44521817, -2.37450375, -2.30378934,\n",
       "        -2.23307492, -2.16236051, -2.0916461 , -2.02093168, -1.95021727,\n",
       "        -1.87950285, -1.80878844, -1.73807403, -1.66735961, -1.5966452 ,\n",
       "        -1.52593078, -1.45521637, -1.38450196, -1.31378754, -1.24307313,\n",
       "        -1.17235871, -1.1016443 , -1.03092989, -0.96021547, -0.88950106,\n",
       "        -0.81878665, -0.74807223, -0.67735782, -0.6066434 , -0.53592899,\n",
       "        -0.46521458, -0.39450016, -0.32378575, -0.25307133, -0.18235692,\n",
       "        -0.11164251, -0.04092809,  0.02978632,  0.10050074,  0.17121515,\n",
       "         0.24192956,  0.31264398,  0.38335839,  0.45407281,  0.52478722,\n",
       "         0.59550163,  0.66621605,  0.73693046,  0.80764488,  0.87835929,\n",
       "         0.9490737 ,  1.01978812,  1.09050253,  1.16121695,  1.23193136,\n",
       "         1.30264577,  1.37336019,  1.4440746 ,  1.51478902,  1.58550343,\n",
       "         1.65621784,  1.72693226,  1.79764667,  1.86836109,  1.9390755 ,\n",
       "         2.00978991,  2.08050433,  2.15121874,  2.22193316,  2.29264757,\n",
       "         2.36336198,  2.4340764 ,  2.50479081,  2.57550523,  2.64621964,\n",
       "         2.71693405,  2.78764847,  2.85836288,  2.92907729,  2.99979171,\n",
       "         3.07050612,  3.14122054,  3.21193495,  3.28264936,  3.35336378,\n",
       "         3.42407819]),\n",
       " <a list of 100 Patch objects>)"
      ]
     },
     "execution_count": 15,
     "metadata": {},
     "output_type": "execute_result"
    },
    {
     "data": {
      "image/png": "[encoded data removed]",
      "text/plain": [
       "<Figure size 432x288 with 1 Axes>"
      ]
     },
     "metadata": {},
     "output_type": "display_data"
    }
   ],
   "source": [
    "plt.hist(r, bins=100)"
   ]
  },
  {
   "cell_type": "markdown",
   "metadata": {},
   "source": [
    "## Sampling from a Gaussian Distribution (Spherical and Axis-Aligned)"
   ]
  },
  {
   "cell_type": "code",
   "execution_count": 18,
   "metadata": {},
   "outputs": [],
   "source": [
    "# Each dimension uncorrelated : Spherical (2D gaussian)"
   ]
  },
  {
   "cell_type": "code",
   "execution_count": 19,
   "metadata": {},
   "outputs": [],
   "source": [
    "r = np.random.randn(10000, 2)"
   ]
  },
  {
   "cell_type": "code",
   "execution_count": 20,
   "metadata": {},
   "outputs": [
    {
     "data": {
      "text/plain": [
       "<matplotlib.collections.PathCollection at 0x7f70d0fc0c18>"
      ]
     },
     "execution_count": 20,
     "metadata": {},
     "output_type": "execute_result"
    },
    {
     "data": {
      "image/png": "[encoded data removed]",
      "text/plain": [
       "<Figure size 432x288 with 1 Axes>"
      ]
     },
     "metadata": {},
     "output_type": "display_data"
    }
   ],
   "source": [
    "plt.scatter(r[:, 0], r[:, 1])"
   ]
  },
  {
   "cell_type": "code",
   "execution_count": 21,
   "metadata": {},
   "outputs": [],
   "source": [
    "# Elliptical Gaussian : Different std deviations for diff dimensions"
   ]
  },
  {
   "cell_type": "code",
   "execution_count": 22,
   "metadata": {},
   "outputs": [],
   "source": [
    "r[:, 1] = 5*r[:, 1] + 2"
   ]
  },
  {
   "cell_type": "code",
   "execution_count": 25,
   "metadata": {},
   "outputs": [
    {
     "data": {
      "text/plain": [
       "(-4.2896676426393165,\n",
       " 4.0335099712786535,\n",
       " -21.461884488873178,\n",
       " 21.511178484851484)"
      ]
     },
     "execution_count": 25,
     "metadata": {},
     "output_type": "execute_result"
    },
    {
     "data": {
      "image/png": "[encoded data removed]",
      "text/plain": [
       "<Figure size 432x288 with 1 Axes>"
      ]
     },
     "metadata": {},
     "output_type": "display_data"
    }
   ],
   "source": [
    "plt.scatter(r[:, 0], r[:, 1])   # see the change in axis scales\n",
    "plt.axis('equal')"
   ]
  },
  {
   "cell_type": "markdown",
   "metadata": {},
   "source": [
    "## Sampling from a General Multivariate Normal Distribution"
   ]
  },
  {
   "cell_type": "code",
   "execution_count": 27,
   "metadata": {},
   "outputs": [],
   "source": [
    "cov = np.array([[1, 0.8], [0.8, 3]]) # Covariance Matrix for the Multivariate distribution"
   ]
  },
  {
   "cell_type": "code",
   "execution_count": 28,
   "metadata": {},
   "outputs": [],
   "source": [
    "from scipy.stats import multivariate_normal as mvn"
   ]
  },
  {
   "cell_type": "code",
   "execution_count": 29,
   "metadata": {},
   "outputs": [],
   "source": [
    "mu = np.array([0, 2])"
   ]
  },
  {
   "cell_type": "code",
   "execution_count": 30,
   "metadata": {},
   "outputs": [],
   "source": [
    "r = mvn.rvs(mean=mu, cov=cov, size=1000)"
   ]
  },
  {
   "cell_type": "code",
   "execution_count": 31,
   "metadata": {},
   "outputs": [
    {
     "data": {
      "text/plain": [
       "array([[ 2.89146166,  4.07270936],\n",
       "       [-0.62134888,  3.29177258],\n",
       "       [-0.88583572,  1.40603887],\n",
       "       ..., \n",
       "       [-0.55570296, -1.71060376],\n",
       "       [-1.46051004, -0.47309586],\n",
       "       [-3.64506503,  0.21533517]])"
      ]
     },
     "execution_count": 31,
     "metadata": {},
     "output_type": "execute_result"
    }
   ],
   "source": [
    "r"
   ]
  },
  {
   "cell_type": "code",
   "execution_count": 33,
   "metadata": {},
   "outputs": [
    {
     "data": {
      "text/plain": [
       "(-3.984975549649131,\n",
       " 3.2959232335731858,\n",
       " -5.795977698615979,\n",
       " 8.5760719754543899)"
      ]
     },
     "execution_count": 33,
     "metadata": {},
     "output_type": "execute_result"
    },
    {
     "data": {
      "image/png": "[encoded data removed]",
      "text/plain": [
       "<Figure size 432x288 with 1 Axes>"
      ]
     },
     "metadata": {},
     "output_type": "display_data"
    }
   ],
   "source": [
    "plt.scatter(r[:, 0], r[:, 1])\n",
    "plt.axis(\"equal\")"
   ]
  },
  {
   "cell_type": "code",
   "execution_count": 34,
   "metadata": {},
   "outputs": [],
   "source": [
    "r = np.random.multivariate_normal(mean=mu, cov=cov, size=1000)"
   ]
  },
  {
   "cell_type": "code",
   "execution_count": 35,
   "metadata": {},
   "outputs": [
    {
     "data": {
      "text/plain": [
       "(-3.6611051551060747,\n",
       " 3.067541491173706,\n",
       " -3.329375513797677,\n",
       " 7.9328236749804981)"
      ]
     },
     "execution_count": 35,
     "metadata": {},
     "output_type": "execute_result"
    },
    {
     "data": {
      "image/png": "[encoded data removed]",
      "text/plain": [
       "<Figure size 432x288 with 1 Axes>"
      ]
     },
     "metadata": {},
     "output_type": "display_data"
    }
   ],
   "source": [
    "plt.scatter(r[:, 0], r[:, 1])\n",
    "plt.axis(\"equal\")"
   ]
  },
  {
   "cell_type": "code",
   "execution_count": null,
   "metadata": {},
   "outputs": [],
   "source": []
  }
 ],
 "metadata": {
  "kernelspec": {
   "display_name": "Python 3",
   "language": "python",
   "name": "python3"
  },
  "language_info": {
   "codemirror_mode": {
    "name": "ipython",
    "version": 3
   },
   "file_extension": ".py",
   "mimetype": "text/x-python",
   "name": "python",
   "nbconvert_exporter": "python",
   "pygments_lexer": "ipython3",
   "version": "3.6.5"
  }
 },
 "nbformat": 4,
 "nbformat_minor": 2
}
